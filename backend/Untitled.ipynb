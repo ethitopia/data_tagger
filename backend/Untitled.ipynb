{
 "cells": [
  {
   "cell_type": "code",
   "execution_count": 85,
   "metadata": {},
   "outputs": [
    {
     "name": "stderr",
     "output_type": "stream",
     "text": [
      "[nltk_data] Downloading package punkt to /Users/mae/nltk_data...\n",
      "[nltk_data]   Package punkt is already up-to-date!\n",
      "[nltk_data] Downloading package vader_lexicon to\n",
      "[nltk_data]     /Users/mae/nltk_data...\n"
     ]
    },
    {
     "data": {
      "text/plain": [
       "True"
      ]
     },
     "execution_count": 85,
     "metadata": {},
     "output_type": "execute_result"
    }
   ],
   "source": [
    "import praw\n",
    "from praw.models import MoreComments\n",
    "import nltk\n",
    "from nltk.tokenize import word_tokenize \n",
    "from nltk.corpus import stopwords \n",
    "import nrclex\n",
    "from nltk.sentiment import SentimentIntensityAnalyzer\n",
    "nltk.download('punkt')\n",
    "nltk.download('vader_lexicon')"
   ]
  },
  {
   "cell_type": "code",
   "execution_count": 20,
   "id": "072601ea",
   "metadata": {},
   "outputs": [],
   "source": [
    "reddit = praw.Reddit(\n",
    "    client_id=\"jY-Juldz8QjmQjKLg2oNBg\",\n",
    "    client_secret=\"4ZJO8wfWGG4K6KzwLpWXBqYPYntmog\",\n",
    "    password=\"19611230\",\n",
    "    user_agent=\"test_script for subreddit scraping\",\n",
    "    username=\"Pitiful-Code6160\"\n",
    ")\n",
    "\n",
    "reddit.read_only = True\n",
    "\n"
   ]
  },
  {
   "cell_type": "code",
   "execution_count": 21,
   "id": "0d274e00",
   "metadata": {},
   "outputs": [
    {
     "name": "stdout",
     "output_type": "stream",
     "text": [
      "Cornell\n",
      "Far above Cayuga's waters, \n",
      "\n",
      "with its waves of blue,\n",
      "\n",
      "Stands our noble Alma Mater, \n",
      "\n",
      "glorious to view.\n",
      "\n",
      "Lift the chorus, speed it onward, \n",
      "\n",
      "loud her praises tell;\n",
      "\n",
      "Hail to thee our Alma Mater! \n",
      "\n",
      "Hail, all hail, Cornell!\n",
      "___________________________________________________________\n",
      "Questions? Check out the [r/Cornell wiki](https://www.reddit.com/r/Cornell/wiki/index)!\n",
      "___________________________________________________________\n",
      "\n",
      "**Rules**\n",
      "\n",
      "1. Posts should be somehow relevant to Cornell or the Cornell community\n",
      "2. NO SPAM/ADs - If you are advertising for a Cornell-related event, please check with the mods first. \n",
      "3. Be nice - antagonistic and/or offensive comments or posts will be removed at the discretion of the mods. You are free to appeal these decisions with the mods.\n",
      "4. Search the subreddit to see if your question has already been asked recently before posting it.\n",
      "5. Do not post personal/identifying information about yourself or anyone else (this does not apply in the case of questions about professors).\n",
      "6. **ALL ADMISSIONS-RELATED POSTS GO IN THE MEGATHREAD.** Any posts outside of the megathread will be removed.\n",
      "7. Posts and comments will be removed (and users can be banned) at the discretion of the moderators. \n",
      "\n",
      "______________________________________________________\n",
      "___________________________________________________________\n",
      "Important/Useful Links:\n",
      "\n",
      "[/r/Cornell FAQs](https://www.reddit.com/r/Cornell/wiki/index)\n",
      "\n",
      "[University Website](http://www.cornell.edu/)\n",
      "\n",
      "[Cornell Now](http://now.cornell.edu/cu/)\n",
      "\n",
      "[Courses of Study](http://classes.cornell.edu/)\n",
      "\n",
      "[Academic Calendar](http://www.cornell.edu/academics/calendar/)\n",
      "\n",
      "[The Cornell Daily Sun](http://cornellsun.com/)\n",
      "\n",
      "[Collegetown Map](http://www.metaezra.com/images/ctown_map.JPG)\n",
      "\n",
      "___________________________________________________________\n",
      "\n",
      "**[The Ivy League](https://www.reddit.com/r/theivyleague/)**\n",
      "\n",
      "* [Brown](http://www.reddit.com/r/BrownU)\n",
      "\n",
      "* [Columbia](http://www.reddit.com/r/Columbia)\n",
      "\n",
      "* [Cornell](http://www.reddit.com/r/Cornell)\n",
      "\n",
      "* [Dartmouth](http://www.reddit.com/r/Dartmouth)\n",
      "\n",
      "* [Harvard](http://www.reddit.com/r/Harvard)\n",
      "\n",
      "* [Princeton](http://www.reddit.com/r/Princeton)\n",
      "\n",
      "* [Penn](http://www.reddit.com/r/UPenn)\n",
      "\n",
      "* [Yale](http://www.reddit.com/r/Yale)\n",
      "\n",
      "___________________________________________________________\n",
      "see also:\n",
      "\n",
      "* /r/CornellLaw\n",
      "\n",
      "* /r/ithaca \n",
      "\n",
      "* /r/IthacaCollege\n",
      "\n",
      "######\n"
     ]
    }
   ],
   "source": [
    "subreddit = reddit.subreddit(\"cornell\")\n",
    "\n",
    "print(subreddit.title)\n",
    "print(subreddit.description)"
   ]
  },
  {
   "cell_type": "code",
   "execution_count": 69,
   "id": "b05dc083",
   "metadata": {},
   "outputs": [
    {
     "name": "stdout",
     "output_type": "stream",
     "text": [
      "There's no such thing as \"meant to be\". You lose all the chances you didn't take. Tell the person you love that you love them. Fuck it. \n",
      "Some conventional wisdom  for my lover boys and girls, but this definitely applies to other things in life too. \n",
      "\n",
      "I met this beautiful girl my junior year here, we quickly became friends and we vibed so well, I thought if there's such a thing as \"the one\", she'd be it for me. But we were both in separate relationships at the time. My feelings for her were strong, but I could never tell her. I always thought what is meant for me, will not pass me by. So I did nothing. I could've ended my meaningless casual relationship and told my friend I truly wanted to be with her when she became single. I didn't. I was too scared to ruin our friendship. Then she got in a relationship with someone I knew. I was crushed, but I thought we were meant to be and eventually fate would bring us together. I never told her. Fast forward  3 years, she's getting engaged to this guy. I found out from one of her girlfriends that she had a huge crush on me, prior to this relationship and waited for me to ask her. When I didn't, she thought I was never into her. Classic. \n",
      "\n",
      "To my younger self: \n",
      "\n",
      "If you like a friend, don't suffer in silence. Tell them. There's no such thing as \"what's meant for you will not pass you by\", this platitude only encourages inaction. You get what you work for. If you're in a comfortable relationship but deep down know your person is someone else, break up. Don't waste your time and your current partner's time. Don't gaslight yourself into thinking this is the best it can get. Life is too short for mediocre romantic relationships and suffering. Take your fucking chances. \n"
     ]
    }
   ],
   "source": [
    "url = \"https://www.reddit.com/r/Cornell/comments/1e96acz/theres_no_such_thing_as_meant_to_be_you_lose_all/\"\n",
    "submission = reddit.submission(url=url)\n",
    "print(submission.title)\n",
    "print(submission.selftext)\n"
   ]
  },
  {
   "cell_type": "code",
   "execution_count": 71,
   "id": "9aaffab0",
   "metadata": {},
   "outputs": [
    {
     "data": {
      "text/plain": [
       "'Unlucky.\\n\\nI mean this post does read still a little naive as far as the specific lesson learned and plea to your younger self... as though it\\'s a leap of faith and that cutting ties to be happy is what is required sometimes to find the right girl. Part of maturing into being an adult is understanding that feelings come from a human place where it is normal and even expected that good friends can become attracted to eachother. Hell, I thought being being friends was a pre requisite for half the girls here as far as being boyfriend worthy. Knowing that feelings are human makes the process of expressing your feelings effectively a no stakes game where you have everything to gain and nothing to lose, so long as your counterpart is relatively mature as well. If not, well that\\'s probably not a good fit....\\n\\nSo this concept really extends beyond taking chances or a leap of faith, or being willing to end a friend ship or having a sense of putting yourself first to be happy... being an adult means understanding your feelings, shooting your shot, and gracefully accepting rejection without shame because you did nothing wrong. Everybody feels what they feel for a reason, and to dispariage, reject, or lament that concept would be an affront to one of the biggest contributors to our shared sense of \"humanity\".\\n\\nEdit: I guess the other reason as it reads a bit naive is because it doesn\\'t come off as a bitter sweet realization of a missed chance, but rather a loss of what \"could\\'ve been\"... and it\\'s hard to not feel like that comes from a place of idealizing this girl. It may feel like a loss in the moment, but again maturity and experience sort of proves that\\'s very likely not true. As far as idealizing her goes, you can\\'t have known how things would go. Applying a retrospective lense to what you shouldve done or a \"it should\\'ve/couldve been me\" sentiment sort of feels like grasping at the concept of having something you don\\'t, (I.E a marriage or relationship in the abstract as a route to happiness) vs really understanding what was had and subsequently \"lost\" (all the things that make her x y and z to you). It almost feels essentially like a side confession where you know she\\'ll read this post and that\\'ll somehow give you closure or put the ball in her court one last time.'"
      ]
     },
     "execution_count": 71,
     "metadata": {},
     "output_type": "execute_result"
    }
   ],
   "source": [
    "submission.comments.replace_more(limit=0)\n",
    "list = [] \n",
    "for top_level_comment in submission.comments:\n",
    "    list.append(top_level_comment.body)\n",
    "    \n",
    "com = list[0]\n",
    "com"
   ]
  },
  {
   "cell_type": "code",
   "execution_count": 72,
   "id": "6d21ab98",
   "metadata": {},
   "outputs": [
    {
     "name": "stdout",
     "output_type": "stream",
     "text": [
      "\n",
      " ['Unlucky', 'I', 'mean', 'this', 'post', 'does', 'read', 'still', 'a', 'little', 'naive', 'as', 'far', 'as', 'the', 'specific', 'lesson', 'learned', 'and', 'plea', 'to', 'your', 'younger', 'self', 'as', 'though', 'it', \"'s\", 'a', 'leap', 'of', 'faith', 'and', 'that', 'cutting', 'ties', 'to', 'be', 'happy', 'is', 'what', 'is', 'required', 'sometimes', 'to', 'find', 'the', 'right', 'girl', 'Part', 'of', 'maturing', 'into', 'being', 'an', 'adult', 'is', 'understanding', 'that', 'feelings', 'come', 'from', 'a', 'human', 'place', 'where', 'it', 'is', 'normal', 'and', 'even', 'expected', 'that', 'good', 'friends', 'can', 'become', 'attracted', 'to', 'eachother', 'Hell', 'I', 'thought', 'being', 'being', 'friends', 'was', 'a', 'pre', 'requisite', 'for', 'half', 'the', 'girls', 'here', 'as', 'far', 'as', 'being', 'boyfriend', 'worthy', 'Knowing', 'that', 'feelings', 'are', 'human', 'makes', 'the', 'process', 'of', 'expressing', 'your', 'feelings', 'effectively', 'a', 'no', 'stakes', 'game', 'where', 'you', 'have', 'everything', 'to', 'gain', 'and', 'nothing', 'to', 'lose', 'so', 'long', 'as', 'your', 'counterpart', 'is', 'relatively', 'mature', 'as', 'well', 'If', 'not', 'well', 'that', \"'s\", 'probably', 'not', 'a', 'good', 'fit', 'So', 'this', 'concept', 'really', 'extends', 'beyond', 'taking', 'chances', 'or', 'a', 'leap', 'of', 'faith', 'or', 'being', 'willing', 'to', 'end', 'a', 'friend', 'ship', 'or', 'having', 'a', 'sense', 'of', 'putting', 'yourself', 'first', 'to', 'be', 'happy', 'being', 'an', 'adult', 'means', 'understanding', 'your', 'feelings', 'shooting', 'your', 'shot', 'and', 'gracefully', 'accepting', 'rejection', 'without', 'shame', 'because', 'you', 'did', 'nothing', 'wrong', 'Everybody', 'feels', 'what', 'they', 'feel', 'for', 'a', 'reason', 'and', 'to', 'dispariage', 'reject', 'or', 'lament', 'that', 'concept', 'would', 'be', 'an', 'affront', 'to', 'one', 'of', 'the', 'biggest', 'contributors', 'to', 'our', 'shared', 'sense', 'of', 'humanity', 'Edit', 'I', 'guess', 'the', 'other', 'reason', 'as', 'it', 'reads', 'a', 'bit', 'naive', 'is', 'because', 'it', 'does', \"n't\", 'come', 'off', 'as', 'a', 'bitter', 'sweet', 'realization', 'of', 'a', 'missed', 'chance', 'but', 'rather', 'a', 'loss', 'of', 'what', 'could', \"'ve\", 'been', 'and', 'it', \"'s\", 'hard', 'to', 'not', 'feel', 'like', 'that', 'comes', 'from', 'a', 'place', 'of', 'idealizing', 'this', 'girl', 'It', 'may', 'feel', 'like', 'a', 'loss', 'in', 'the', 'moment', 'but', 'again', 'maturity', 'and', 'experience', 'sort', 'of', 'proves', 'that', \"'s\", 'very', 'likely', 'not', 'true', 'As', 'far', 'as', 'idealizing', 'her', 'goes', 'you', 'ca', \"n't\", 'have', 'known', 'how', 'things', 'would', 'go', 'Applying', 'a', 'retrospective', 'lense', 'to', 'what', 'you', 'shouldve', 'done', 'or', 'a', 'it', \"should've/couldve\", 'been', 'me', 'sentiment', 'sort', 'of', 'feels', 'like', 'grasping', 'at', 'the', 'concept', 'of', 'having', 'something', 'you', 'do', \"n't\", 'I.E', 'a', 'marriage', 'or', 'relationship', 'in', 'the', 'abstract', 'as', 'a', 'route', 'to', 'happiness', 'vs', 'really', 'understanding', 'what', 'was', 'had', 'and', 'subsequently', 'lost', 'all', 'the', 'things', 'that', 'make', 'her', 'x', 'y', 'and', 'z', 'to', 'you', 'It', 'almost', 'feels', 'essentially', 'like', 'a', 'side', 'confession', 'where', 'you', 'know', 'she', \"'ll\", 'read', 'this', 'post', 'and', 'that', \"'ll\", 'somehow', 'give', 'you', 'closure', 'or', 'put', 'the', 'ball', 'in', 'her', 'court', 'one', 'last', 'time']\n",
      "\n",
      " {'naive': ['negative'], 'lesson': ['anticipation', 'positive', 'trust'], 'plea': ['anticipation', 'fear', 'negative', 'sadness'], 'younger': ['positive'], 'faith': ['anticipation', 'joy', 'positive', 'trust'], 'cutting': ['anger', 'disgust', 'fear', 'negative', 'sadness'], 'happy': ['anticipation', 'joy', 'positive', 'trust'], 'understanding': ['positive', 'trust'], 'expected': ['anticipation'], 'good': ['anticipation', 'joy', 'positive', 'surprise', 'trust'], 'thought': ['anticipation'], 'worthy': ['positive', 'trust'], 'gain': ['anticipation', 'joy', 'positive'], 'lose': ['anger', 'disgust', 'fear', 'negative', 'sadness', 'surprise'], 'long': ['anticipation'], 'friend': ['joy', 'positive', 'trust'], 'ship': ['anticipation'], 'sense': ['positive'], 'shooting': ['anger', 'fear', 'negative'], 'shot': ['anger', 'fear', 'negative', 'sadness', 'surprise'], 'rejection': ['anger', 'disgust', 'fear', 'negative', 'sadness'], 'shame': ['disgust', 'fear', 'negative', 'sadness'], 'wrong': ['negative'], 'reason': ['positive'], 'reject': ['anger', 'fear', 'negative', 'sadness'], 'lament': ['disgust', 'fear', 'negative', 'sadness'], 'affront': ['anger', 'disgust', 'fear', 'negative', 'sadness', 'surprise'], 'humanity': ['joy', 'positive', 'trust'], 'guess': ['surprise'], 'sweet': ['anticipation', 'joy', 'positive', 'surprise', 'trust'], 'chance': ['surprise'], 'loss': ['anger', 'fear', 'negative', 'sadness'], 'true': ['joy', 'positive', 'trust'], 'grasping': ['anticipation', 'negative'], 'marriage': ['anticipation', 'joy', 'positive', 'trust'], 'happiness': ['anticipation', 'joy', 'positive'], 'lost': ['negative', 'sadness'], 'confession': ['anticipation', 'fear', 'negative', 'sadness', 'surprise'], 'closure': ['anticipation', 'joy', 'positive', 'sadness'], 'court': ['anger', 'anticipation', 'fear'], 'time': ['anticipation']}\n"
     ]
    }
   ],
   "source": [
    "emotion = nrclex.NRCLex(com)\n",
    "\n",
    "print('\\n', emotion.words)\n",
    "print('\\n', emotion.affect_dict)\n"
   ]
  },
  {
   "cell_type": "code",
   "execution_count": 73,
   "id": "7aa70152",
   "metadata": {},
   "outputs": [
    {
     "data": {
      "text/plain": [
       "41"
      ]
     },
     "execution_count": 73,
     "metadata": {},
     "output_type": "execute_result"
    }
   ],
   "source": [
    "len(emotion.affect_dict)"
   ]
  },
  {
   "cell_type": "code",
   "execution_count": 88,
   "id": "d179537a",
   "metadata": {},
   "outputs": [
    {
     "name": "stdout",
     "output_type": "stream",
     "text": [
      "\n",
      " {'humbled': ['positive', 'sadness'], 'challenge': ['anger', 'fear', 'negative'], 'encourage': ['joy', 'positive', 'trust'], 'growth': ['positive'], 'build': ['positive']}\n",
      "\n",
      " {'positive': 4, 'sadness': 1, 'anger': 1, 'fear': 1, 'negative': 1, 'joy': 1, 'trust': 1}\n",
      "\n",
      " [('positive', 0.4)]\n",
      "\n",
      " {'fear': 0.1, 'anger': 0.1, 'anticip': 0.0, 'trust': 0.1, 'surprise': 0.0, 'positive': 0.4, 'negative': 0.1, 'sadness': 0.1, 'disgust': 0.0, 'joy': 0.1}\n"
     ]
    }
   ],
   "source": [
    "emotion = nrclex.NRCLex(text)\n",
    "print('\\n', emotion.affect_dict)\n",
    "print('\\n', emotion.raw_emotion_scores)\n",
    "print('\\n', emotion.top_emotions)\n",
    "print('\\n', emotion.affect_frequencies)\n",
    "\n",
    "sub_emotion = nrclex.NRCLex(submission.selftext)"
   ]
  },
  {
   "cell_type": "code",
   "execution_count": 93,
   "id": "4682c6b0",
   "metadata": {},
   "outputs": [
    {
     "ename": "NameError",
     "evalue": "name 'emotion_scores' is not defined",
     "output_type": "error",
     "traceback": [
      "\u001b[0;31m---------------------------------------------------------------------------\u001b[0m",
      "\u001b[0;31mNameError\u001b[0m                                 Traceback (most recent call last)",
      "\u001b[1;32m/Users/mae/Desktop/Projects/data_tagger/Untitled.ipynb Cell 9\u001b[0m line \u001b[0;36m1\n\u001b[0;32m----> <a href='vscode-notebook-cell:/Users/mae/Desktop/Projects/data_tagger/Untitled.ipynb#X13sZmlsZQ%3D%3D?line=0'>1</a>\u001b[0m emotion_scores\u001b[39m.\u001b[39mpop(\u001b[39m'\u001b[39m\u001b[39mpositive\u001b[39m\u001b[39m'\u001b[39m, \u001b[39mNone\u001b[39;00m)\n\u001b[1;32m      <a href='vscode-notebook-cell:/Users/mae/Desktop/Projects/data_tagger/Untitled.ipynb#X13sZmlsZQ%3D%3D?line=1'>2</a>\u001b[0m emotion_scores\u001b[39m.\u001b[39mpop(\u001b[39m'\u001b[39m\u001b[39mnegative\u001b[39m\u001b[39m'\u001b[39m, \u001b[39mNone\u001b[39;00m)\n",
      "\u001b[0;31mNameError\u001b[0m: name 'emotion_scores' is not defined"
     ]
    }
   ],
   "source": [
    "len(emotion.raw_emotion_scores)\n"
   ]
  },
  {
   "cell_type": "code",
   "execution_count": 99,
   "id": "4eaaf42f",
   "metadata": {},
   "outputs": [
    {
     "name": "stdout",
     "output_type": "stream",
     "text": [
      "\n",
      " {'wisdom': ['positive', 'trust'], 'lover': ['anticipation', 'joy', 'positive', 'trust'], 'beautiful': ['joy', 'positive'], 'thought': ['anticipation'], 'time': ['anticipation'], 'meaningless': ['negative', 'sadness'], 'friend': ['joy', 'positive', 'trust'], 'ruin': ['fear', 'negative', 'sadness'], 'friendship': ['joy', 'positive', 'trust'], 'crushed': ['anger', 'disgust', 'fear', 'negative', 'sadness'], 'fate': ['anticipation', 'negative'], 'forward': ['positive'], 'engaged': ['anticipation', 'joy', 'positive', 'trust'], 'found': ['joy', 'positive', 'trust'], 'younger': ['positive'], 'suffer': ['negative'], 'inaction': ['negative'], 'break': ['surprise'], 'waste': ['disgust', 'negative'], 'partner': ['positive'], 'mediocre': ['negative'], 'romantic': ['anticipation', 'joy', 'positive', 'trust'], 'suffering': ['disgust', 'fear', 'negative', 'sadness']}\n",
      "\n",
      " {'sadness': 1, 'anger': 1, 'fear': 1, 'joy': 1, 'trust': 1}\n",
      "\n",
      " [('positive', 0.2)]\n"
     ]
    }
   ],
   "source": [
    "\n",
    "\n",
    "emotion_scores = emotion.raw_emotion_scores\n",
    "emotion_scores.pop('positive', None)\n",
    "emotion_scores.pop('negative', None)\n",
    "\n",
    "print('\\n', sub_emotion.affect_dict)\n",
    "print('\\n', emotion.raw_emotion_scores)\n",
    "print('\\n', sub_emotion.top_emotions)"
   ]
  },
  {
   "cell_type": "code",
   "execution_count": 86,
   "id": "caff7d5c",
   "metadata": {},
   "outputs": [],
   "source": [
    "submission.comments.replace_more(limit=0)  # Load all comments, no limit on nesting\n",
    "sia = SentimentIntensityAnalyzer()"
   ]
  },
  {
   "cell_type": "code",
   "execution_count": 90,
   "id": "fc26b84f",
   "metadata": {},
   "outputs": [],
   "source": [
    "list = [] \n",
    "for top_level_comment in submission.comments:\n",
    "    if isinstance(top_level_comment, MoreComments):\n",
    "        continue\n",
    "    list.append(top_level_comment.body)\n",
    "    "
   ]
  },
  {
   "cell_type": "code",
   "execution_count": 91,
   "id": "21cf9035",
   "metadata": {},
   "outputs": [],
   "source": [
    "scores = sia.polarity_scores(list[0])"
   ]
  },
  {
   "cell_type": "code",
   "execution_count": 92,
   "id": "0a2bcbac",
   "metadata": {},
   "outputs": [
    {
     "data": {
      "text/plain": [
       "{'neg': 0.092, 'neu': 0.787, 'pos': 0.122, 'compound': 0.7201}"
      ]
     },
     "execution_count": 92,
     "metadata": {},
     "output_type": "execute_result"
    }
   ],
   "source": [
    "scores"
   ]
  },
  {
   "cell_type": "code",
   "execution_count": 102,
   "metadata": {},
   "outputs": [],
   "source": [
    "from datetime import datetime \n",
    "start_date = datetime.strptime('20230110', '%Y%m%d')"
   ]
  },
  {
   "cell_type": "code",
   "execution_count": 103,
   "id": "9d6e7bec",
   "metadata": {},
   "outputs": [
    {
     "name": "stdout",
     "output_type": "stream",
     "text": [
      "2023-01-10 00:00:00\n"
     ]
    }
   ],
   "source": [
    "print(start_date)"
   ]
  },
  {
   "cell_type": "code",
   "execution_count": null,
   "id": "bece5d66",
   "metadata": {},
   "outputs": [],
   "source": []
  }
 ],
 "metadata": {
  "kernelspec": {
   "display_name": "base",
   "language": "python",
   "name": "python3"
  },
  "language_info": {
   "codemirror_mode": {
    "name": "ipython",
    "version": 3
   },
   "file_extension": ".py",
   "mimetype": "text/x-python",
   "name": "python",
   "nbconvert_exporter": "python",
   "pygments_lexer": "ipython3",
   "version": "3.11.5"
  }
 },
 "nbformat": 4,
 "nbformat_minor": 5
}

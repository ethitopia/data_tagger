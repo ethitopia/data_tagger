{
 "cells": [
  {
   "cell_type": "code",
   "execution_count": 12,
   "metadata": {},
   "outputs": [],
   "source": [
    "import praw\n",
    "from praw.models import MoreComments"
   ]
  },
  {
   "cell_type": "code",
   "execution_count": 20,
   "id": "072601ea",
   "metadata": {},
   "outputs": [],
   "source": [
    "reddit = praw.Reddit(\n",
    "    client_id=\"jY-Juldz8QjmQjKLg2oNBg\",\n",
    "    client_secret=\"4ZJO8wfWGG4K6KzwLpWXBqYPYntmog\",\n",
    "    password=\"19611230\",\n",
    "    user_agent=\"test_script for subreddit scraping\",\n",
    "    username=\"Pitiful-Code6160\"\n",
    ")\n",
    "\n",
    "reddit.read_only = True\n",
    "\n"
   ]
  },
  {
   "cell_type": "code",
   "execution_count": 21,
   "id": "0d274e00",
   "metadata": {},
   "outputs": [
    {
     "name": "stdout",
     "output_type": "stream",
     "text": [
      "Cornell\n",
      "Far above Cayuga's waters, \n",
      "\n",
      "with its waves of blue,\n",
      "\n",
      "Stands our noble Alma Mater, \n",
      "\n",
      "glorious to view.\n",
      "\n",
      "Lift the chorus, speed it onward, \n",
      "\n",
      "loud her praises tell;\n",
      "\n",
      "Hail to thee our Alma Mater! \n",
      "\n",
      "Hail, all hail, Cornell!\n",
      "___________________________________________________________\n",
      "Questions? Check out the [r/Cornell wiki](https://www.reddit.com/r/Cornell/wiki/index)!\n",
      "___________________________________________________________\n",
      "\n",
      "**Rules**\n",
      "\n",
      "1. Posts should be somehow relevant to Cornell or the Cornell community\n",
      "2. NO SPAM/ADs - If you are advertising for a Cornell-related event, please check with the mods first. \n",
      "3. Be nice - antagonistic and/or offensive comments or posts will be removed at the discretion of the mods. You are free to appeal these decisions with the mods.\n",
      "4. Search the subreddit to see if your question has already been asked recently before posting it.\n",
      "5. Do not post personal/identifying information about yourself or anyone else (this does not apply in the case of questions about professors).\n",
      "6. **ALL ADMISSIONS-RELATED POSTS GO IN THE MEGATHREAD.** Any posts outside of the megathread will be removed.\n",
      "7. Posts and comments will be removed (and users can be banned) at the discretion of the moderators. \n",
      "\n",
      "______________________________________________________\n",
      "___________________________________________________________\n",
      "Important/Useful Links:\n",
      "\n",
      "[/r/Cornell FAQs](https://www.reddit.com/r/Cornell/wiki/index)\n",
      "\n",
      "[University Website](http://www.cornell.edu/)\n",
      "\n",
      "[Cornell Now](http://now.cornell.edu/cu/)\n",
      "\n",
      "[Courses of Study](http://classes.cornell.edu/)\n",
      "\n",
      "[Academic Calendar](http://www.cornell.edu/academics/calendar/)\n",
      "\n",
      "[The Cornell Daily Sun](http://cornellsun.com/)\n",
      "\n",
      "[Collegetown Map](http://www.metaezra.com/images/ctown_map.JPG)\n",
      "\n",
      "___________________________________________________________\n",
      "\n",
      "**[The Ivy League](https://www.reddit.com/r/theivyleague/)**\n",
      "\n",
      "* [Brown](http://www.reddit.com/r/BrownU)\n",
      "\n",
      "* [Columbia](http://www.reddit.com/r/Columbia)\n",
      "\n",
      "* [Cornell](http://www.reddit.com/r/Cornell)\n",
      "\n",
      "* [Dartmouth](http://www.reddit.com/r/Dartmouth)\n",
      "\n",
      "* [Harvard](http://www.reddit.com/r/Harvard)\n",
      "\n",
      "* [Princeton](http://www.reddit.com/r/Princeton)\n",
      "\n",
      "* [Penn](http://www.reddit.com/r/UPenn)\n",
      "\n",
      "* [Yale](http://www.reddit.com/r/Yale)\n",
      "\n",
      "___________________________________________________________\n",
      "see also:\n",
      "\n",
      "* /r/CornellLaw\n",
      "\n",
      "* /r/ithaca \n",
      "\n",
      "* /r/IthacaCollege\n",
      "\n",
      "######\n"
     ]
    }
   ],
   "source": [
    "subreddit = reddit.subreddit(\"cornell\")\n",
    "\n",
    "print(subreddit.title)\n",
    "print(subreddit.description)"
   ]
  },
  {
   "cell_type": "code",
   "execution_count": 28,
   "id": "b05dc083",
   "metadata": {},
   "outputs": [
    {
     "name": "stdout",
     "output_type": "stream",
     "text": [
      "Pre-Enroll Instructions\n",
      "Engineering maintains course enrollment directions at [https://www.engineering.cornell.edu/students/undergraduate-students/advising/course-enrollment](https://www.engineering.cornell.edu/students/undergraduate-students/advising/course-enrollment) that are of benefit to all incoming first-year students, including links to the Physics, Math, CS, FWS, and Chemistry enrollment instructions/waitlists. This is updated each semester. \n"
     ]
    }
   ],
   "source": [
    "url = \"https://www.reddit.com/r/Cornell/comments/1e9ffa6/preenroll_instructions/\"\n",
    "submission = reddit.submission(url=url)\n",
    "print(submission.title)\n",
    "print(submission.selftext)\n",
    "\n"
   ]
  },
  {
   "cell_type": "code",
   "execution_count": 23,
   "id": "9972b206",
   "metadata": {},
   "outputs": [
    {
     "name": "stdout",
     "output_type": "stream",
     "text": [
      "Helping out, as always!\n"
     ]
    }
   ],
   "source": [
    "for top_level_comment in submission.comments:\n",
    "    if isinstance(top_level_comment, MoreComments):\n",
    "        continue\n",
    "    print(top_level_comment.body)"
   ]
  },
  {
   "cell_type": "code",
   "execution_count": null,
   "id": "9aaffab0",
   "metadata": {},
   "outputs": [],
   "source": []
  }
 ],
 "metadata": {
  "kernelspec": {
   "display_name": "base",
   "language": "python",
   "name": "python3"
  },
  "language_info": {
   "codemirror_mode": {
    "name": "ipython",
    "version": 3
   },
   "file_extension": ".py",
   "mimetype": "text/x-python",
   "name": "python",
   "nbconvert_exporter": "python",
   "pygments_lexer": "ipython3",
   "version": "3.11.5"
  }
 },
 "nbformat": 4,
 "nbformat_minor": 5
}

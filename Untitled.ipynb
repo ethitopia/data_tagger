{
 "cells": [
  {
   "cell_type": "code",
   "execution_count": 3,
   "metadata": {},
   "outputs": [],
   "source": [
    "import praw"
   ]
  },
  {
   "cell_type": "code",
   "execution_count": 5,
   "id": "072601ea",
   "metadata": {},
   "outputs": [],
   "source": [
    "reddit = praw.Reddit(\n",
    "    client_id=\"jY-Juldz8QjmQjKLg2oNBg\",\n",
    "    client_secret=\"4ZJO8wfWGG4K6KzwLpWXBqYPYntmog\",\n",
    "    password=\"19611230\",\n",
    "    user_agent=\"test_script for subreddit scraping\",\n",
    "    username=\"Pitiful-Code6160\"\n",
    ")\n",
    "\n",
    "reddit.read_only = True"
   ]
  },
  {
   "cell_type": "code",
   "execution_count": 7,
   "id": "55d3840c",
   "metadata": {},
   "outputs": [],
   "source": [
    "subreddit = reddit.subreddit('Cornell')\n",
    "top_posts = subreddit.top(limit=10)"
   ]
  },
  {
   "cell_type": "code",
   "execution_count": 8,
   "id": "b05dc083",
   "metadata": {},
   "outputs": [],
   "source": [
    "for post in top_posts: \n",
    "    post_data = (post.id, post.title, post.score, post.url)\n",
    "    insert_post = post_data \n",
    "\n"
   ]
  },
  {
   "cell_type": "code",
   "execution_count": null,
   "id": "9972b206",
   "metadata": {},
   "outputs": [],
   "source": []
  }
 ],
 "metadata": {
  "kernelspec": {
   "display_name": "base",
   "language": "python",
   "name": "python3"
  },
  "language_info": {
   "codemirror_mode": {
    "name": "ipython",
    "version": 3
   },
   "file_extension": ".py",
   "mimetype": "text/x-python",
   "name": "python",
   "nbconvert_exporter": "python",
   "pygments_lexer": "ipython3",
   "version": "3.11.5"
  }
 },
 "nbformat": 4,
 "nbformat_minor": 5
}
